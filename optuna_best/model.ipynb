{
 "cells": [
  {
   "cell_type": "code",
   "execution_count": null,
   "metadata": {},
   "outputs": [],
   "source": [
    "from transformers import AutoTokenizer, RobertaModel\n",
    "import torch\n",
    "from torch import nn , optim \n",
    "from torch.utils.data import Dataset, DataLoader\n",
    "from torch.nn import functional as F\n",
    "import pandas as pd\n",
    "import lightning as L\n",
    "from pytorch_lightning.loggers import WandbLogger \n",
    "from optuna.integration import PyTorchLightningPruningCallback\n"
   ]
  },
  {
   "cell_type": "code",
   "execution_count": null,
   "metadata": {},
   "outputs": [],
   "source": [
    "class LSTM_RoBERTA(nn.Module):\n",
    "    def __init__(self,roberta_path = \"roberta-base\",lstm_hidden_size=256,lstm_layers=2,lstm_dropout=0.2 , num_classes=2, to_take = [-1]):\n",
    "        super().__init__()\n",
    "        self.roberta = RobertaModel.from_pretrained(roberta_path , output_hidden_states=True)\n",
    "        self.lstm = nn.LSTM(self.roberta.config.hidden_size,lstm_hidden_size,lstm_layers,batch_first=True,dropout=lstm_dropout,bidirectional=True)\n",
    "        self.linear = nn.Linear(lstm_hidden_size*2,num_classes)\n",
    "        self.to_take = to_take\n",
    "        self.dropout = nn.Dropout(lstm_dropout)\n",
    "        for param in self.roberta.parameters():\n",
    "            param.requires_grad = False\n",
    "        for params in self.roberta.pooler.parameters():\n",
    "            params.requires_grad = True\n",
    "        print(\"Model Loaded\")\n",
    "        print(\"Total_trainable_params : \",sum(p.numel() for p in self.parameters() if p.requires_grad))\n",
    "        print(\"Total_untrainable_params : \",sum(p.numel() for p in self.parameters() if not p.requires_grad))\n",
    "    def forward(self, input_ids, attention_mask):\n",
    "        roberta_output = self.roberta(input_ids, attention_mask)\n",
    "        last_hidden_states = roberta_output[2]\n",
    "        required_layers = [last_hidden_states[i] for i in self.to_take]\n",
    "        avg_hidden_states = torch.mean(torch.stack(required_layers), dim=0)\n",
    "        lstm_output, (h_n,c_n) = self.lstm(avg_hidden_states)\n",
    "        logits = self.linear(lstm_output[:, -1, :])\n",
    "        # print(logits.shape,\"logits\")\n",
    "        return logits"
   ]
  },
  {
   "cell_type": "code",
   "execution_count": null,
   "metadata": {},
   "outputs": [],
   "source": [
    "class DatasetLM(torch.utils.data.Dataset):\n",
    "    def __init__(self, dataset, tokeniser):\n",
    "        self.dataset = dataset\n",
    "        self.tokeniser = tokeniser\n",
    "        \n",
    "    def __len__(self):\n",
    "        return len(self.dataset)\n",
    "    \n",
    "    def __getitem__(self, index):\n",
    "        # print(self.tokeniser(self.dataset[index]['text'], return_tensors=\"pt\")['input_ids'])\n",
    "        return (self.tokeniser(self.dataset[index]['text'], return_tensors=\"pt\", truncation=True, max_length=512), self.dataset[index]['label'])\n",
    "\n"
   ]
  },
  {
   "cell_type": "code",
   "execution_count": null,
   "metadata": {},
   "outputs": [],
   "source": [
    "train_data_path = \"/scratch/jainit/SubtaskA/subtaskA_train_monolingual.jsonl\"\n",
    "test_data_path = \"/scratch/jainit/SubtaskA/subtaskA_dev_monolingual.jsonl\"\n",
    "df_train = pd.read_json(train_data_path, lines=True)\n",
    "df_test = pd.read_json(test_data_path, lines=True)"
   ]
  },
  {
   "cell_type": "code",
   "execution_count": 29,
   "metadata": {},
   "outputs": [],
   "source": [
    "train_data = df_train.to_dict('records')\n",
    "test_data = df_test.to_dict('records')"
   ]
  },
  {
   "cell_type": "code",
   "execution_count": 30,
   "metadata": {},
   "outputs": [],
   "source": [
    "tokenizer = AutoTokenizer.from_pretrained(\"roberta-base\" , truncation=True, max_length=512 )\n",
    "\n",
    "train_dataset = DatasetLM(train_data, tokenizer)\n",
    "test_dataset = DatasetLM(test_data, tokenizer)"
   ]
  },
  {
   "cell_type": "code",
   "execution_count": 31,
   "metadata": {},
   "outputs": [],
   "source": [
    "def collate_fn(batch):\n",
    "    input_ids = [x[0]['input_ids'].squeeze(0) for x in batch]\n",
    "    # print(input_ids)\n",
    "    attention_mask = [x[0]['attention_mask'].squeeze(0) for x in batch]\n",
    "    labels = [x[1] for x in batch]\n",
    "    # print(batch)\n",
    "    # input_ids = torch.stack(input_ids)\n",
    "    # attention_mask = torch.stack(attention_mask)\n",
    "    # print(input_ids.shape)\n",
    "    # print([x.shape for x in input_ids])\n",
    "    inputs_ids = torch.nn.utils.rnn.pad_sequence(input_ids, batch_first=True, padding_value=1)\n",
    "    attention_mask = torch.nn.utils.rnn.pad_sequence(attention_mask, batch_first=True, padding_value=0)\n",
    "    # print(inputs_ids.shape)\n",
    "    x = {'input_ids': inputs_ids, 'attention_mask': attention_mask}\n",
    "    y = torch.Tensor(labels)\n",
    "    return (x, y)"
   ]
  },
  {
   "cell_type": "code",
   "execution_count": 32,
   "metadata": {},
   "outputs": [],
   "source": [
    "train_loader = DataLoader(train_dataset, batch_size=16, shuffle=True, collate_fn=collate_fn, num_workers = 4)\n",
    "test_loader = DataLoader(test_dataset, batch_size=16, shuffle=False, collate_fn=collate_fn, num_workers = 4)"
   ]
  },
  {
   "cell_type": "code",
   "execution_count": 33,
   "metadata": {},
   "outputs": [],
   "source": [
    "from lightning.pytorch.utilities.types import TRAIN_DATALOADERS\n",
    "\n",
    "\n",
    "class LitModel(L.LightningModule):\n",
    "    def __init__(self,train_loader , val_loader , model_path, lr=2e-5, hidden_size=256, lstm_layers=2, lstm_dropout=0.2, num_classes=2, to_take = [-1]):\n",
    "        super().__init__()\n",
    "        self.model_path = model_path\n",
    "        self.lr = lr\n",
    "        self.hidden_size = hidden_size\n",
    "        self.lstm_layers = lstm_layers\n",
    "        self.lstm_dropout = lstm_dropout\n",
    "        self.num_classes = num_classes\n",
    "        self.model = LSTM_RoBERTA(model_path, hidden_size, lstm_layers, lstm_dropout, num_classes , to_take)\n",
    "        self.train_loader = train_loader\n",
    "        self.val_loader = val_loader\n",
    "        # self.save_hyperparameters()\n",
    "    \n",
    "    def forward(self, input_ids, attention_mask):\n",
    "        # print(input_ids.shape , attention_mask.shape , \"Here are the shapes\")\n",
    "        out = self.model(input_ids, attention_mask)\n",
    "        # print(out.shape , \"Here is the output$$$$$$$$$$$$$$$$$$$$$$$$$$$$$$$$$\")\n",
    "        return out\n",
    "    \n",
    "    def training_step(self, batch, batch_idx):\n",
    "        x, y = batch\n",
    "        # print(x, y )\n",
    "        # print( y.shape, \"Here are wasd############\" )\n",
    "        logits = self.forward(x['input_ids'], x['attention_mask'])\n",
    "        # print(logits.shape , \"Here are the logits\")\n",
    "        loss = F.cross_entropy(logits, y.long())\n",
    "        # print(logits.shape , y.shape)\n",
    "        \n",
    "        self.log('train_loss', loss, on_step=True, on_epoch=True, prog_bar=True, logger=True)\n",
    "        return loss\n",
    "        # print(\"##############\")\n",
    "        # return None\n",
    "    \n",
    "    def validation_step(self, batch, batch_idx):\n",
    "        x, y = batch\n",
    "        logits = self(x['input_ids'], x['attention_mask'])\n",
    "        loss = F.cross_entropy(logits, y.long())\n",
    "        self.log('val_loss', loss, on_step=True, on_epoch=True, prog_bar=True, logger=True)\n",
    "        acc = (logits.argmax(dim=-1) == y).float().mean()\n",
    "        self.log('val_acc', acc, on_step=False, on_epoch=True, prog_bar=True, logger=True)\n",
    "        \n",
    "        return loss\n",
    "    \n",
    "    def train_dataloader(self):\n",
    "        return self.train_loader\n",
    "    \n",
    "    def val_dataloader(self):\n",
    "        return self.val_loader\n",
    "    \n",
    "    def configure_optimizers(self):\n",
    "        return optim.Adam(self.parameters(), lr=self.lr , weight_decay=0.01 , eps=1e-6)\n",
    "        "
   ]
  },
  {
   "cell_type": "code",
   "execution_count": 34,
   "metadata": {},
   "outputs": [],
   "source": [
    "def objective(trial):\n",
    "    # Hyperparameters\n",
    "    lr = trial.suggest_float(\"lr\", 1e-5, 1e-3, log=True)\n",
    "    hidden_size = trial.suggest_categorical(\"hidden_size\", [256, 512, 848])\n",
    "    lstm_layers = trial.suggest_categorical(\"lstm_layers\", [1, 2, 3])\n",
    "    lstm_dropout = trial.suggest_float(\"lstm_dropout\", 0.1, 0.5)\n",
    "    to_take = trial.suggest_categorical(\"to_take\", [[-1], [-1, -2], [-1, -2, -3], [-1, -2, -3, 1 ], [-1, -2, -3, 1, 2, 3] ,[-1, -2, -3, 1, 5 ] ] )\n",
    "    num_classes = 2\n",
    "    model_path = \"roberta-base\"\n",
    "    # model_path = \"roberta-base\"\n",
    "    model = LitModel(train_loader , test_loader , model_path, lr, hidden_size, lstm_layers, lstm_dropout, num_classes, to_take)\n",
    "    wandb_logger = WandbLogger(project=\"SubtaskA\", log_model=True)\n",
    "    callback = PyTorchLightningPruningCallback(trial, monitor=\"val_acc\")\n",
    "    trainer = L.Trainer(max_epochs=5, logger=wandb_logger, callbacks=[callback])\n",
    "    hyperparameters = dict(lr=lr, hidden_size=hidden_size, lstm_layers=lstm_layers, lstm_dropout=lstm_dropout, to_take=to_take)\n",
    "    trainer.logger.log_hyperparams(hyperparameters)\n",
    "    trainer.fit(model)\n",
    "    callback.check_pruned()\n",
    "\n",
    "    return trainer.callback_metrics[\"val_acc\"].item()\n"
   ]
  },
  {
   "cell_type": "code",
   "execution_count": 35,
   "metadata": {},
   "outputs": [],
   "source": [
    "\n",
    "pruner: optuna.pruners.BasePruner =  (\n",
    "        optuna.pruners.MedianPruner() \n",
    "    )\n"
   ]
  },
  {
   "cell_type": "code",
   "execution_count": 36,
   "metadata": {},
   "outputs": [
    {
     "name": "stderr",
     "output_type": "stream",
     "text": [
      "[I 2024-01-10 11:53:00,751] Using an existing study with name 'pl_ddp' instead of creating a new one.\n"
     ]
    },
    {
     "name": "stderr",
     "output_type": "stream",
     "text": [
      "/home2/jainit/miniconda3/envs/torchy/lib/python3.11/site-packages/optuna/distributions.py:524: UserWarning: Choices for a categorical distribution should be a tuple of None, bool, int, float and str for persistent storage but contains [-1] which is of type list.\n",
      "  warnings.warn(message)\n",
      "/home2/jainit/miniconda3/envs/torchy/lib/python3.11/site-packages/optuna/distributions.py:524: UserWarning: Choices for a categorical distribution should be a tuple of None, bool, int, float and str for persistent storage but contains [-1, -2] which is of type list.\n",
      "  warnings.warn(message)\n",
      "/home2/jainit/miniconda3/envs/torchy/lib/python3.11/site-packages/optuna/distributions.py:524: UserWarning: Choices for a categorical distribution should be a tuple of None, bool, int, float and str for persistent storage but contains [-1, -2, -3] which is of type list.\n",
      "  warnings.warn(message)\n",
      "/home2/jainit/miniconda3/envs/torchy/lib/python3.11/site-packages/optuna/distributions.py:524: UserWarning: Choices for a categorical distribution should be a tuple of None, bool, int, float and str for persistent storage but contains [-1, -2, -3, 1] which is of type list.\n",
      "  warnings.warn(message)\n",
      "/home2/jainit/miniconda3/envs/torchy/lib/python3.11/site-packages/optuna/distributions.py:524: UserWarning: Choices for a categorical distribution should be a tuple of None, bool, int, float and str for persistent storage but contains [-1, -2, -3, 1, 2, 3] which is of type list.\n",
      "  warnings.warn(message)\n",
      "/home2/jainit/miniconda3/envs/torchy/lib/python3.11/site-packages/optuna/distributions.py:524: UserWarning: Choices for a categorical distribution should be a tuple of None, bool, int, float and str for persistent storage but contains [-1, -2, -3, 1, 5] which is of type list.\n",
      "  warnings.warn(message)\n",
      "Some weights of RobertaModel were not initialized from the model checkpoint at roberta-base and are newly initialized: ['roberta.pooler.dense.weight', 'roberta.pooler.dense.bias']\n",
      "You should probably TRAIN this model on a down-stream task to be able to use it for predictions and inference.\n",
      "Trainer will use only 1 of 4 GPUs because it is running inside an interactive / notebook environment. You may try to set `Trainer(devices=4)` but please note that multi-GPU inside interactive / notebook environments is considered experimental and unstable. Your mileage may vary.\n",
      "/home2/jainit/miniconda3/envs/torchy/lib/python3.11/site-packages/lightning/fabric/plugins/environments/slurm.py:191: The `srun` command is available on your system but is not used. HINT: If your intention is to run Lightning on SLURM, prepend your python command with `srun` like so: srun python /home2/jainit/miniconda3/envs/torchy/lib/python3.11/ ...\n",
      "GPU available: True (cuda), used: True\n",
      "TPU available: False, using: 0 TPU cores\n",
      "IPU available: False, using: 0 IPUs\n",
      "HPU available: False, using: 0 HPUs\n"
     ]
    },
    {
     "name": "stdout",
     "output_type": "stream",
     "text": [
      "Model Loaded\n",
      "Total_trainable_params :  28842562\n",
      "Total_untrainable_params :  124055040\n"
     ]
    },
    {
     "name": "stderr",
     "output_type": "stream",
     "text": [
      "/home2/jainit/miniconda3/envs/torchy/lib/python3.11/site-packages/pytorch_lightning/loggers/wandb.py:389: There is a wandb run already in progress and newly created instances of `WandbLogger` will reuse this run. If this is not desired, call `wandb.finish()` before instantiating `WandbLogger`.\n",
      "LOCAL_RANK: 0 - CUDA_VISIBLE_DEVICES: [0,1,2,3]\n",
      "\n",
      "  | Name  | Type         | Params\n",
      "---------------------------------------\n",
      "0 | model | LSTM_RoBERTA | 152 M \n",
      "---------------------------------------\n",
      "28.8 M    Trainable params\n",
      "124 M     Non-trainable params\n",
      "152 M     Total params\n",
      "611.590   Total estimated model params size (MB)\n"
     ]
    },
    {
     "name": "stdout",
     "output_type": "stream",
     "text": [
      "Epoch 0:   0%|          | 15/7485 [00:25<3:28:17,  0.60it/s, v_num=cslw, train_loss_step=0.680]"
     ]
    }
   ],
   "source": [
    "storage = \"sqlite:///example.db\"\n",
    "study = optuna.create_study(\n",
    "    study_name=\"pl_ddp\",\n",
    "    storage=storage,\n",
    "    direction=\"maximize\",\n",
    "    pruner=pruner,\n",
    "    load_if_exists=True,\n",
    ")\n",
    "study.optimize(objective, n_trials=100, timeout=600)\n",
    "\n",
    "print(\"Number of finished trials: {}\".format(len(study.trials)))"
   ]
  },
  {
   "cell_type": "code",
   "execution_count": null,
   "metadata": {},
   "outputs": [],
   "source": []
  },
  {
   "cell_type": "code",
   "execution_count": null,
   "metadata": {},
   "outputs": [],
   "source": []
  }
 ],
 "metadata": {
  "kernelspec": {
   "display_name": "torchy",
   "language": "python",
   "name": "python3"
  },
  "language_info": {
   "codemirror_mode": {
    "name": "ipython",
    "version": 3
   },
   "file_extension": ".py",
   "mimetype": "text/x-python",
   "name": "python",
   "nbconvert_exporter": "python",
   "pygments_lexer": "ipython3",
   "version": "3.11.5"
  }
 },
 "nbformat": 4,
 "nbformat_minor": 2
}
