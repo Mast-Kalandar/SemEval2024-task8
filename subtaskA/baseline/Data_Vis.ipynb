{
 "cells": [
  {
   "cell_type": "code",
   "execution_count": 1,
   "metadata": {},
   "outputs": [],
   "source": [
    "from datasets import Dataset\n",
    "import pandas as pd\n",
    "# import evaluate\n",
    "import numpy as np\n",
    "# from transformers import AutoModelForSequenceClassification, TrainingArguments, Trainer, DataCollatorWithPadding, AutoTokenizer, set_seed\n",
    "# import os\n",
    "from sklearn.model_selection import train_test_split\n",
    "# from scipy.special import softmax\n",
    "# import argparse\n",
    "# import logging\n",
    "# import torch.nn as nn\n",
    "# import torch"
   ]
  },
  {
   "cell_type": "code",
   "execution_count": null,
   "metadata": {},
   "outputs": [],
   "source": []
  },
  {
   "cell_type": "code",
   "execution_count": null,
   "metadata": {},
   "outputs": [],
   "source": []
  },
  {
   "cell_type": "code",
   "execution_count": 2,
   "metadata": {},
   "outputs": [],
   "source": [
    "test_df = pd.read_json(\"/home/suyash/Desktop/IIIT/sem_5/ANLP/Project/Mast-Kalandar/SemEval2024-task8/subtaskA/SubtaskA/SubtaskA/subtaskA_dev_monolingual.jsonl\", lines=True)\n",
    "train_df = pd.read_json(\"/home/suyash/Desktop/IIIT/sem_5/ANLP/Project/Mast-Kalandar/SemEval2024-task8/subtaskA/SubtaskA/SubtaskA/subtaskA_train_monolingual.jsonl\", lines=True)"
   ]
  },
  {
   "cell_type": "code",
   "execution_count": 3,
   "metadata": {},
   "outputs": [
    {
     "data": {
      "text/plain": [
       "<bound method NDFrame.head of                                                      text  label    model  \\\n",
       "0       Forza Motorsport is a popular racing game that...      1  chatGPT   \n",
       "1       Buying Virtual Console games for your Nintendo...      1  chatGPT   \n",
       "2       Windows NT 4.0 was a popular operating system ...      1  chatGPT   \n",
       "3       How to Make Perfume\\n\\nPerfume is a great way ...      1  chatGPT   \n",
       "4       How to Convert Song Lyrics to a Song'\\n\\nConve...      1  chatGPT   \n",
       "...                                                   ...    ...      ...   \n",
       "119752  The paper is an interesting contribution, prim...      0    human   \n",
       "119753  \\nWe thank the reviewers for all their comment...      0    human   \n",
       "119754  The authors introduce a semi-supervised method...      0    human   \n",
       "119755  This paper proposes the Neural Graph Machine t...      0    human   \n",
       "119756  The paper proposes a model that aims at learni...      0    human   \n",
       "\n",
       "          source      id  \n",
       "0        wikihow       0  \n",
       "1        wikihow       1  \n",
       "2        wikihow       2  \n",
       "3        wikihow       3  \n",
       "4        wikihow       4  \n",
       "...          ...     ...  \n",
       "119752  peerread  119752  \n",
       "119753  peerread  119753  \n",
       "119754  peerread  119754  \n",
       "119755  peerread  119755  \n",
       "119756  peerread  119756  \n",
       "\n",
       "[119757 rows x 5 columns]>"
      ]
     },
     "execution_count": 3,
     "metadata": {},
     "output_type": "execute_result"
    }
   ],
   "source": [
    "train_df.head"
   ]
  },
  {
   "cell_type": "code",
   "execution_count": 4,
   "metadata": {},
   "outputs": [
    {
     "data": {
      "text/plain": [
       "<bound method NDFrame.head of                                                      text  label\n",
       "0       Forza Motorsport is a popular racing game that...      1\n",
       "1       Buying Virtual Console games for your Nintendo...      1\n",
       "2       Windows NT 4.0 was a popular operating system ...      1\n",
       "3       How to Make Perfume\\n\\nPerfume is a great way ...      1\n",
       "4       How to Convert Song Lyrics to a Song'\\n\\nConve...      1\n",
       "...                                                   ...    ...\n",
       "119752  The paper is an interesting contribution, prim...      0\n",
       "119753  \\nWe thank the reviewers for all their comment...      0\n",
       "119754  The authors introduce a semi-supervised method...      0\n",
       "119755  This paper proposes the Neural Graph Machine t...      0\n",
       "119756  The paper proposes a model that aims at learni...      0\n",
       "\n",
       "[119757 rows x 2 columns]>"
      ]
     },
     "execution_count": 4,
     "metadata": {},
     "output_type": "execute_result"
    }
   ],
   "source": [
    "#use only 2 columns text and label \n",
    "train_df = train_df[['text','label']]\n",
    "test_df = test_df[['text','label']]\n",
    "train_df.head"
   ]
  },
  {
   "cell_type": "code",
   "execution_count": 5,
   "metadata": {},
   "outputs": [
    {
     "name": "stderr",
     "output_type": "stream",
     "text": [
      "[nltk_data] Error loading stopwords: <urlopen error [Errno 104]\n",
      "[nltk_data]     Connection reset by peer>\n",
      "[nltk_data] Error loading punkt: <urlopen error [Errno 104] Connection\n",
      "[nltk_data]     reset by peer>\n"
     ]
    },
    {
     "data": {
      "text/plain": [
       "False"
      ]
     },
     "execution_count": 5,
     "metadata": {},
     "output_type": "execute_result"
    }
   ],
   "source": [
    "#IMPORT POS TAGGER FROM NLTK \n",
    "import nltk\n",
    "from nltk.tokenize import word_tokenize\n",
    "from nltk.tag import pos_tag\n",
    "from nltk.corpus import stopwords\n",
    "nltk.download('stopwords')\n",
    "\n",
    "#imoprt pos tagger from nltk\n",
    "nltk.download('punkt')\n",
    "\n",
    "\n"
   ]
  },
  {
   "cell_type": "code",
   "execution_count": 24,
   "metadata": {},
   "outputs": [],
   "source": [
    "# k = pos_tag([\"car\"])"
   ]
  },
  {
   "cell_type": "code",
   "execution_count": null,
   "metadata": {},
   "outputs": [],
   "source": []
  },
  {
   "cell_type": "code",
   "execution_count": 7,
   "metadata": {},
   "outputs": [],
   "source": [
    "# REMOVE STOPWORDS FROM THE TEXT\n",
    "stopwords = set(stopwords.words('english'))\n",
    "\n",
    "# add  puntutation marks to the set of stopwords\n",
    "stopwords.update(['.', ',', '\"', \"'\", '?', '!', ':', ';', '(', ')', '[', ']', '{', '}'])\n"
   ]
  },
  {
   "cell_type": "code",
   "execution_count": 8,
   "metadata": {},
   "outputs": [],
   "source": [
    "# stopwords"
   ]
  },
  {
   "cell_type": "code",
   "execution_count": 9,
   "metadata": {},
   "outputs": [
    {
     "data": {
      "text/plain": [
       "193"
      ]
     },
     "execution_count": 9,
     "metadata": {},
     "output_type": "execute_result"
    }
   ],
   "source": [
    "len(stopwords)\n",
    "# len(train_df)"
   ]
  },
  {
   "cell_type": "code",
   "execution_count": 10,
   "metadata": {},
   "outputs": [],
   "source": [
    "import re\n",
    "\n",
    "def split_into_lemmas(text):\n",
    "    text = text.lower()\n",
    "    # remove all punctutations from the text and replace it with space just keep the words and numbers \n",
    "    text = re.sub(r'[^\\w\\s]','  ',text)\n",
    "    # \n",
    "    words = text.split()\n",
    "    # words = [word for word in words if word]\n",
    "\n",
    "    # \n",
    "    return words"
   ]
  },
  {
   "cell_type": "code",
   "execution_count": 11,
   "metadata": {},
   "outputs": [
    {
     "data": {
      "text/plain": [
       "['suaysh', 'is', 'the', 'gre', 'dsfg', 'fdsdf']"
      ]
     },
     "execution_count": 11,
     "metadata": {},
     "output_type": "execute_result"
    }
   ],
   "source": [
    "k = split_into_lemmas(\"SUAYSH is the gre-dsfg.fdsdf\")\n",
    "k"
   ]
  },
  {
   "cell_type": "code",
   "execution_count": 12,
   "metadata": {},
   "outputs": [
    {
     "data": {
      "text/html": [
       "<div>\n",
       "<style scoped>\n",
       "    .dataframe tbody tr th:only-of-type {\n",
       "        vertical-align: middle;\n",
       "    }\n",
       "\n",
       "    .dataframe tbody tr th {\n",
       "        vertical-align: top;\n",
       "    }\n",
       "\n",
       "    .dataframe thead th {\n",
       "        text-align: right;\n",
       "    }\n",
       "</style>\n",
       "<table border=\"1\" class=\"dataframe\">\n",
       "  <thead>\n",
       "    <tr style=\"text-align: right;\">\n",
       "      <th></th>\n",
       "      <th>text</th>\n",
       "      <th>label</th>\n",
       "    </tr>\n",
       "  </thead>\n",
       "  <tbody>\n",
       "    <tr>\n",
       "      <th>0</th>\n",
       "      <td>Forza Motorsport is a popular racing game that...</td>\n",
       "      <td>1</td>\n",
       "    </tr>\n",
       "    <tr>\n",
       "      <th>1</th>\n",
       "      <td>Buying Virtual Console games for your Nintendo...</td>\n",
       "      <td>1</td>\n",
       "    </tr>\n",
       "    <tr>\n",
       "      <th>2</th>\n",
       "      <td>Windows NT 4.0 was a popular operating system ...</td>\n",
       "      <td>1</td>\n",
       "    </tr>\n",
       "    <tr>\n",
       "      <th>3</th>\n",
       "      <td>How to Make Perfume\\n\\nPerfume is a great way ...</td>\n",
       "      <td>1</td>\n",
       "    </tr>\n",
       "    <tr>\n",
       "      <th>4</th>\n",
       "      <td>How to Convert Song Lyrics to a Song'\\n\\nConve...</td>\n",
       "      <td>1</td>\n",
       "    </tr>\n",
       "  </tbody>\n",
       "</table>\n",
       "</div>"
      ],
      "text/plain": [
       "                                                text  label\n",
       "0  Forza Motorsport is a popular racing game that...      1\n",
       "1  Buying Virtual Console games for your Nintendo...      1\n",
       "2  Windows NT 4.0 was a popular operating system ...      1\n",
       "3  How to Make Perfume\\n\\nPerfume is a great way ...      1\n",
       "4  How to Convert Song Lyrics to a Song'\\n\\nConve...      1"
      ]
     },
     "execution_count": 12,
     "metadata": {},
     "output_type": "execute_result"
    }
   ],
   "source": [
    "train_df.head()"
   ]
  },
  {
   "cell_type": "code",
   "execution_count": 13,
   "metadata": {},
   "outputs": [],
   "source": [
    "# make a list of all the words in the text column for train and test data and remove stopwords\n",
    "train_words = []\n",
    "test_words = []\n",
    "Human_words = []\n",
    "Model_words = []\n",
    "for i in range(len(train_df)):\n",
    "\n",
    "    # train_words += [w.lower() for w in split_into_lemmas(train_df['text'][i]) if not w.lower() in stopwords]\n",
    "    if(train_df['label'][i] == 0):\n",
    "        Human_words += [w.lower() for w in split_into_lemmas(train_df['text'][i]) if not w.lower() in stopwords]\n",
    "    else:\n",
    "        Model_words += [w.lower() for w in split_into_lemmas(train_df['text'][i]) if not w.lower() in stopwords]\n",
    "\n",
    "\n"
   ]
  },
  {
   "cell_type": "code",
   "execution_count": null,
   "metadata": {},
   "outputs": [],
   "source": []
  },
  {
   "cell_type": "code",
   "execution_count": 14,
   "metadata": {},
   "outputs": [],
   "source": [
    "from collections import Counter\n",
    "\n",
    "cnt_HUMAN = Counter(Human_words)\n",
    "cnt_MODEL = Counter(Model_words)"
   ]
  },
  {
   "cell_type": "code",
   "execution_count": 15,
   "metadata": {},
   "outputs": [],
   "source": [
    "# len(Human_words)"
   ]
  },
  {
   "cell_type": "code",
   "execution_count": 16,
   "metadata": {},
   "outputs": [],
   "source": [
    "# len(Model_words)"
   ]
  },
  {
   "cell_type": "code",
   "execution_count": 17,
   "metadata": {},
   "outputs": [],
   "source": [
    "# cnt_MODEL.most_common(10)"
   ]
  },
  {
   "cell_type": "code",
   "execution_count": 18,
   "metadata": {},
   "outputs": [],
   "source": [
    "# cnt_HUMAN.most_common(10)"
   ]
  },
  {
   "cell_type": "code",
   "execution_count": 19,
   "metadata": {},
   "outputs": [],
   "source": [
    "import plotly as pl\n",
    "import plotly.graph_objs as go\n",
    "import plotly.express as px\n"
   ]
  },
  {
   "cell_type": "code",
   "execution_count": 20,
   "metadata": {},
   "outputs": [],
   "source": [
    "# devide the count of each word by the total number of words in the corpus and multiply by 100 to get the percentage\n",
    "for key in cnt_HUMAN:\n",
    "    cnt_HUMAN[key] = (cnt_HUMAN[key]/len(Human_words))*100000\n",
    "for key in cnt_MODEL:\n",
    "    cnt_MODEL[key] = (cnt_MODEL[key]/len(Model_words))*100000"
   ]
  },
  {
   "cell_type": "code",
   "execution_count": 21,
   "metadata": {},
   "outputs": [
    {
     "data": {
      "text/plain": [
       "[('also', 428.29558901118406),\n",
       " ('one', 389.5613562926428),\n",
       " ('may', 345.32319630606537),\n",
       " ('time', 333.17137024266344),\n",
       " ('make', 295.7924451569024),\n",
       " ('like', 285.59318093733623),\n",
       " ('first', 269.68784187060754),\n",
       " ('people', 252.51908043433798),\n",
       " ('1', 251.41645727546594),\n",
       " ('new', 251.269440854283)]"
      ]
     },
     "execution_count": 21,
     "metadata": {},
     "output_type": "execute_result"
    }
   ],
   "source": [
    "cnt_HUMAN.most_common(10)"
   ]
  },
  {
   "cell_type": "code",
   "execution_count": 22,
   "metadata": {},
   "outputs": [
    {
     "data": {
      "text/plain": [
       "[('also', 532.0608572956867),\n",
       " ('paper', 509.0877586968023),\n",
       " ('make', 359.6750085297363),\n",
       " ('one', 341.2381234677503),\n",
       " ('use', 337.18862812150627),\n",
       " ('time', 293.9583184275887),\n",
       " ('1', 292.8486009528969),\n",
       " ('model', 292.6733824042613),\n",
       " ('new', 273.6134980582378),\n",
       " ('well', 265.0667266303478)]"
      ]
     },
     "execution_count": 22,
     "metadata": {},
     "output_type": "execute_result"
    }
   ],
   "source": [
    "cnt_MODEL.most_common(10)"
   ]
  },
  {
   "cell_type": "code",
   "execution_count": 31,
   "metadata": {},
   "outputs": [
    {
     "data": {
      "text/plain": [
       "[('also', 428.29558901118406),\n",
       " ('one', 389.5613562926428),\n",
       " ('may', 345.32319630606537),\n",
       " ('time', 333.17137024266344),\n",
       " ('make', 295.7924451569024),\n",
       " ('like', 285.59318093733623),\n",
       " ('first', 269.68784187060754),\n",
       " ('people', 252.51908043433798),\n",
       " ('1', 251.41645727546594),\n",
       " ('new', 251.269440854283)]"
      ]
     },
     "execution_count": 31,
     "metadata": {},
     "output_type": "execute_result"
    }
   ],
   "source": [
    "cnt_HUMAN.most_common(10)\n"
   ]
  },
  {
   "cell_type": "code",
   "execution_count": 38,
   "metadata": {},
   "outputs": [
    {
     "data": {
      "application/vnd.plotly.v1+json": {
       "config": {
        "plotlyServerURL": "https://plot.ly"
       },
       "data": [
        {
         "name": "Human",
         "type": "bar",
         "x": [
          "also",
          "one",
          "may",
          "time",
          "make",
          "like",
          "first",
          "people",
          "1",
          "new",
          "two",
          "get",
          "use",
          "2",
          "would",
          "work",
          "want",
          "need",
          "well",
          "many",
          "even",
          "3",
          "way",
          "help",
          "used",
          "take",
          "good",
          "see",
          "could",
          "much",
          "back",
          "try",
          "school",
          "sure",
          "different",
          "high",
          "however",
          "using",
          "day",
          "go",
          "around",
          "5",
          "keep",
          "state",
          "find",
          "might",
          "4",
          "know",
          "water",
          "american",
          "part",
          "example",
          "years",
          "right",
          "0",
          "long",
          "three",
          "world",
          "number",
          "best",
          "body",
          "made",
          "something",
          "things",
          "states",
          "look",
          "based",
          "place",
          "year",
          "show",
          "person",
          "feel",
          "system",
          "important",
          "area",
          "10",
          "later",
          "end",
          "set",
          "another",
          "life",
          "city",
          "united",
          "small",
          "often",
          "still",
          "since",
          "think",
          "line",
          "paper",
          "second",
          "give",
          "known",
          "order",
          "called",
          "including",
          "large",
          "start",
          "every",
          "6"
         ],
         "y": [
          428.29558901118406,
          389.5613562926428,
          345.32319630606537,
          333.17137024266344,
          295.7924451569024,
          285.59318093733623,
          269.68784187060754,
          252.51908043433798,
          251.41645727546594,
          251.269440854283,
          239.21868858044434,
          236.08540110398303,
          229.52938757185657,
          218.45261908835485,
          198.26083249151117,
          172.61106125825106,
          171.78409388909705,
          170.05665094019758,
          164.47921546157,
          159.8298211416597,
          155.05638171637628,
          154.79450871614418,
          153.5632461887371,
          148.6244132896229,
          143.9336706012549,
          141.42520291482109,
          141.158735651427,
          138.27353838571193,
          132.50773811744372,
          131.2121559057691,
          130.3714057471292,
          126.48925337526732,
          125.83227374310607,
          125.51526958493038,
          125.1661055846209,
          123.46163395153125,
          122.90113384577131,
          122.38657637163105,
          121.0955884231184,
          120.20889563285884,
          119.98837100108443,
          118.08634605203021,
          117.55800578840405,
          117.55341152524207,
          116.00973910282126,
          114.06177152214738,
          113.62072225859859,
          112.1689350994171,
          112.0311072045581,
          111.50736120409388,
          110.75849630869331,
          109.63290183401149,
          107.354147305676,
          106.62365946292329,
          105.80128635693126,
          104.17032293443306,
          104.13356882913733,
          103.81197040779965,
          103.80278188147572,
          102.72313003841356,
          101.40457651092912,
          100.03089182550106,
          99.12122771943166,
          99.05690803516413,
          97.05840355970861,
          95.79498119016776,
          95.6801246111186,
          95.6525590321468,
          94.79343182085903,
          93.90673903059945,
          92.8914068718048,
          92.04606245000292,
          92.036873923679,
          92.02309113419311,
          91.28800902827842,
          91.22828360717286,
          89.86378744806875,
          89.36760702657634,
          89.31247586863275,
          88.94952907883737,
          87.57125013024735,
          87.01534428764938,
          86.64780323469206,
          86.41349581343175,
          86.04136049731245,
          85.67381944435512,
          85.09034802278535,
          84.80090944358143,
          84.4747167590818,
          84.16690112723003,
          83.66612644257566,
          83.00914681041442,
          81.74572444087359,
          81.12549891400808,
          79.21428543862993,
          78.90646980677816,
          78.82377306986275,
          78.3229983852084,
          78.31840412204642,
          78.26327296410281
         ]
        },
        {
         "name": "Model",
         "type": "bar",
         "x": [
          "also",
          "one",
          "may",
          "time",
          "make",
          "like",
          "first",
          "people",
          "1",
          "new",
          "two",
          "get",
          "use",
          "2",
          "would",
          "work",
          "want",
          "need",
          "well",
          "many",
          "even",
          "3",
          "way",
          "help",
          "used",
          "take",
          "good",
          "see",
          "could",
          "much",
          "back",
          "try",
          "school",
          "sure",
          "different",
          "high",
          "however",
          "using",
          "day",
          "go",
          "around",
          "5",
          "keep",
          "state",
          "find",
          "might",
          "4",
          "know",
          "water",
          "american",
          "part",
          "example",
          "years",
          "right",
          "0",
          "long",
          "three",
          "world",
          "number",
          "best",
          "body",
          "made",
          "something",
          "things",
          "states",
          "look",
          "based",
          "place",
          "year",
          "show",
          "person",
          "feel",
          "system",
          "important",
          "area",
          "10",
          "later",
          "end",
          "set",
          "another",
          "life",
          "city",
          "united",
          "small",
          "often",
          "still",
          "since",
          "think",
          "line",
          "paper",
          "second",
          "give",
          "known",
          "order",
          "called",
          "including",
          "large",
          "start",
          "every",
          "6"
         ],
         "y": [
          532.0608572956867,
          341.2381234677503,
          238.65739760544386,
          293.9583184275887,
          359.6750085297363,
          180.12466799735418,
          252.7722251344194,
          184.30071007316835,
          292.8486009528969,
          273.6134980582378,
          227.5796915861513,
          162.00901694120006,
          337.18862812150627,
          239.29986561710757,
          206.01807574016453,
          223.831961518113,
          115.69291391853409,
          198.32792832782613,
          265.0667266303478,
          183.56089842337374,
          102.84355368525978,
          172.91150441185704,
          162.72935986336847,
          213.37725478285796,
          235.299042089929,
          150.3667178207485,
          113.62922879015971,
          72.83251004951384,
          188.94400161201062,
          83.84207552211477,
          88.66058560959263,
          69.36707653205502,
          73.5820560631215,
          180.14413672498037,
          186.47147320348665,
          134.66518899023984,
          161.6877829353682,
          233.62473151407806,
          70.52546582581232,
          78.78020633930976,
          108.70364070073792,
          125.30073100205054,
          101.05243074365185,
          150.09415563398207,
          152.1286376709172,
          61.861882032165255,
          143.0270075056812,
          82.91731095987154,
          124.28835716548954,
          80.04567363501101,
          120.09284636204923,
          92.93397132353765,
          81.11645365445052,
          103.74884951987683,
          87.0836186718726,
          97.05160721647327,
          79.57842417198285,
          139.9217454493066,
          135.16164154470724,
          94.65695371845396,
          82.67395186454438,
          100.19580672810025,
          43.765699703637296,
          50.531082553732475,
          90.95789546948107,
          87.79422723022793,
          130.92719328601459,
          116.39378811307633,
          54.96021808868687,
          164.60809207929418,
          57.31593413145382,
          48.749693975937625,
          144.32167789282173,
          219.12052943257908,
          97.60646595381921,
          94.51093826125766,
          35.80299010453247,
          79.3155963490295,
          104.51786426111069,
          73.86435261370103,
          82.92704532368462,
          69.64937308263453,
          72.2095107654763,
          104.97537936032576,
          95.74720246551966,
          72.09269839971927,
          59.768993812351646,
          58.97077597967855,
          68.53965560794265,
          509.0877586968023,
          81.4960938431609,
          67.16711031029745,
          117.11413103524472,
          90.80214564847168,
          57.160184310444436,
          146.99862794142055,
          119.76187799240428,
          103.93380243232549,
          38.129503055860155,
          87.239368492882
         ]
        }
       ],
       "layout": {
        "barmode": "group",
        "template": {
         "data": {
          "bar": [
           {
            "error_x": {
             "color": "#2a3f5f"
            },
            "error_y": {
             "color": "#2a3f5f"
            },
            "marker": {
             "line": {
              "color": "#E5ECF6",
              "width": 0.5
             },
             "pattern": {
              "fillmode": "overlay",
              "size": 10,
              "solidity": 0.2
             }
            },
            "type": "bar"
           }
          ],
          "barpolar": [
           {
            "marker": {
             "line": {
              "color": "#E5ECF6",
              "width": 0.5
             },
             "pattern": {
              "fillmode": "overlay",
              "size": 10,
              "solidity": 0.2
             }
            },
            "type": "barpolar"
           }
          ],
          "carpet": [
           {
            "aaxis": {
             "endlinecolor": "#2a3f5f",
             "gridcolor": "white",
             "linecolor": "white",
             "minorgridcolor": "white",
             "startlinecolor": "#2a3f5f"
            },
            "baxis": {
             "endlinecolor": "#2a3f5f",
             "gridcolor": "white",
             "linecolor": "white",
             "minorgridcolor": "white",
             "startlinecolor": "#2a3f5f"
            },
            "type": "carpet"
           }
          ],
          "choropleth": [
           {
            "colorbar": {
             "outlinewidth": 0,
             "ticks": ""
            },
            "type": "choropleth"
           }
          ],
          "contour": [
           {
            "colorbar": {
             "outlinewidth": 0,
             "ticks": ""
            },
            "colorscale": [
             [
              0,
              "#0d0887"
             ],
             [
              0.1111111111111111,
              "#46039f"
             ],
             [
              0.2222222222222222,
              "#7201a8"
             ],
             [
              0.3333333333333333,
              "#9c179e"
             ],
             [
              0.4444444444444444,
              "#bd3786"
             ],
             [
              0.5555555555555556,
              "#d8576b"
             ],
             [
              0.6666666666666666,
              "#ed7953"
             ],
             [
              0.7777777777777778,
              "#fb9f3a"
             ],
             [
              0.8888888888888888,
              "#fdca26"
             ],
             [
              1,
              "#f0f921"
             ]
            ],
            "type": "contour"
           }
          ],
          "contourcarpet": [
           {
            "colorbar": {
             "outlinewidth": 0,
             "ticks": ""
            },
            "type": "contourcarpet"
           }
          ],
          "heatmap": [
           {
            "colorbar": {
             "outlinewidth": 0,
             "ticks": ""
            },
            "colorscale": [
             [
              0,
              "#0d0887"
             ],
             [
              0.1111111111111111,
              "#46039f"
             ],
             [
              0.2222222222222222,
              "#7201a8"
             ],
             [
              0.3333333333333333,
              "#9c179e"
             ],
             [
              0.4444444444444444,
              "#bd3786"
             ],
             [
              0.5555555555555556,
              "#d8576b"
             ],
             [
              0.6666666666666666,
              "#ed7953"
             ],
             [
              0.7777777777777778,
              "#fb9f3a"
             ],
             [
              0.8888888888888888,
              "#fdca26"
             ],
             [
              1,
              "#f0f921"
             ]
            ],
            "type": "heatmap"
           }
          ],
          "heatmapgl": [
           {
            "colorbar": {
             "outlinewidth": 0,
             "ticks": ""
            },
            "colorscale": [
             [
              0,
              "#0d0887"
             ],
             [
              0.1111111111111111,
              "#46039f"
             ],
             [
              0.2222222222222222,
              "#7201a8"
             ],
             [
              0.3333333333333333,
              "#9c179e"
             ],
             [
              0.4444444444444444,
              "#bd3786"
             ],
             [
              0.5555555555555556,
              "#d8576b"
             ],
             [
              0.6666666666666666,
              "#ed7953"
             ],
             [
              0.7777777777777778,
              "#fb9f3a"
             ],
             [
              0.8888888888888888,
              "#fdca26"
             ],
             [
              1,
              "#f0f921"
             ]
            ],
            "type": "heatmapgl"
           }
          ],
          "histogram": [
           {
            "marker": {
             "pattern": {
              "fillmode": "overlay",
              "size": 10,
              "solidity": 0.2
             }
            },
            "type": "histogram"
           }
          ],
          "histogram2d": [
           {
            "colorbar": {
             "outlinewidth": 0,
             "ticks": ""
            },
            "colorscale": [
             [
              0,
              "#0d0887"
             ],
             [
              0.1111111111111111,
              "#46039f"
             ],
             [
              0.2222222222222222,
              "#7201a8"
             ],
             [
              0.3333333333333333,
              "#9c179e"
             ],
             [
              0.4444444444444444,
              "#bd3786"
             ],
             [
              0.5555555555555556,
              "#d8576b"
             ],
             [
              0.6666666666666666,
              "#ed7953"
             ],
             [
              0.7777777777777778,
              "#fb9f3a"
             ],
             [
              0.8888888888888888,
              "#fdca26"
             ],
             [
              1,
              "#f0f921"
             ]
            ],
            "type": "histogram2d"
           }
          ],
          "histogram2dcontour": [
           {
            "colorbar": {
             "outlinewidth": 0,
             "ticks": ""
            },
            "colorscale": [
             [
              0,
              "#0d0887"
             ],
             [
              0.1111111111111111,
              "#46039f"
             ],
             [
              0.2222222222222222,
              "#7201a8"
             ],
             [
              0.3333333333333333,
              "#9c179e"
             ],
             [
              0.4444444444444444,
              "#bd3786"
             ],
             [
              0.5555555555555556,
              "#d8576b"
             ],
             [
              0.6666666666666666,
              "#ed7953"
             ],
             [
              0.7777777777777778,
              "#fb9f3a"
             ],
             [
              0.8888888888888888,
              "#fdca26"
             ],
             [
              1,
              "#f0f921"
             ]
            ],
            "type": "histogram2dcontour"
           }
          ],
          "mesh3d": [
           {
            "colorbar": {
             "outlinewidth": 0,
             "ticks": ""
            },
            "type": "mesh3d"
           }
          ],
          "parcoords": [
           {
            "line": {
             "colorbar": {
              "outlinewidth": 0,
              "ticks": ""
             }
            },
            "type": "parcoords"
           }
          ],
          "pie": [
           {
            "automargin": true,
            "type": "pie"
           }
          ],
          "scatter": [
           {
            "fillpattern": {
             "fillmode": "overlay",
             "size": 10,
             "solidity": 0.2
            },
            "type": "scatter"
           }
          ],
          "scatter3d": [
           {
            "line": {
             "colorbar": {
              "outlinewidth": 0,
              "ticks": ""
             }
            },
            "marker": {
             "colorbar": {
              "outlinewidth": 0,
              "ticks": ""
             }
            },
            "type": "scatter3d"
           }
          ],
          "scattercarpet": [
           {
            "marker": {
             "colorbar": {
              "outlinewidth": 0,
              "ticks": ""
             }
            },
            "type": "scattercarpet"
           }
          ],
          "scattergeo": [
           {
            "marker": {
             "colorbar": {
              "outlinewidth": 0,
              "ticks": ""
             }
            },
            "type": "scattergeo"
           }
          ],
          "scattergl": [
           {
            "marker": {
             "colorbar": {
              "outlinewidth": 0,
              "ticks": ""
             }
            },
            "type": "scattergl"
           }
          ],
          "scattermapbox": [
           {
            "marker": {
             "colorbar": {
              "outlinewidth": 0,
              "ticks": ""
             }
            },
            "type": "scattermapbox"
           }
          ],
          "scatterpolar": [
           {
            "marker": {
             "colorbar": {
              "outlinewidth": 0,
              "ticks": ""
             }
            },
            "type": "scatterpolar"
           }
          ],
          "scatterpolargl": [
           {
            "marker": {
             "colorbar": {
              "outlinewidth": 0,
              "ticks": ""
             }
            },
            "type": "scatterpolargl"
           }
          ],
          "scatterternary": [
           {
            "marker": {
             "colorbar": {
              "outlinewidth": 0,
              "ticks": ""
             }
            },
            "type": "scatterternary"
           }
          ],
          "surface": [
           {
            "colorbar": {
             "outlinewidth": 0,
             "ticks": ""
            },
            "colorscale": [
             [
              0,
              "#0d0887"
             ],
             [
              0.1111111111111111,
              "#46039f"
             ],
             [
              0.2222222222222222,
              "#7201a8"
             ],
             [
              0.3333333333333333,
              "#9c179e"
             ],
             [
              0.4444444444444444,
              "#bd3786"
             ],
             [
              0.5555555555555556,
              "#d8576b"
             ],
             [
              0.6666666666666666,
              "#ed7953"
             ],
             [
              0.7777777777777778,
              "#fb9f3a"
             ],
             [
              0.8888888888888888,
              "#fdca26"
             ],
             [
              1,
              "#f0f921"
             ]
            ],
            "type": "surface"
           }
          ],
          "table": [
           {
            "cells": {
             "fill": {
              "color": "#EBF0F8"
             },
             "line": {
              "color": "white"
             }
            },
            "header": {
             "fill": {
              "color": "#C8D4E3"
             },
             "line": {
              "color": "white"
             }
            },
            "type": "table"
           }
          ]
         },
         "layout": {
          "annotationdefaults": {
           "arrowcolor": "#2a3f5f",
           "arrowhead": 0,
           "arrowwidth": 1
          },
          "autotypenumbers": "strict",
          "coloraxis": {
           "colorbar": {
            "outlinewidth": 0,
            "ticks": ""
           }
          },
          "colorscale": {
           "diverging": [
            [
             0,
             "#8e0152"
            ],
            [
             0.1,
             "#c51b7d"
            ],
            [
             0.2,
             "#de77ae"
            ],
            [
             0.3,
             "#f1b6da"
            ],
            [
             0.4,
             "#fde0ef"
            ],
            [
             0.5,
             "#f7f7f7"
            ],
            [
             0.6,
             "#e6f5d0"
            ],
            [
             0.7,
             "#b8e186"
            ],
            [
             0.8,
             "#7fbc41"
            ],
            [
             0.9,
             "#4d9221"
            ],
            [
             1,
             "#276419"
            ]
           ],
           "sequential": [
            [
             0,
             "#0d0887"
            ],
            [
             0.1111111111111111,
             "#46039f"
            ],
            [
             0.2222222222222222,
             "#7201a8"
            ],
            [
             0.3333333333333333,
             "#9c179e"
            ],
            [
             0.4444444444444444,
             "#bd3786"
            ],
            [
             0.5555555555555556,
             "#d8576b"
            ],
            [
             0.6666666666666666,
             "#ed7953"
            ],
            [
             0.7777777777777778,
             "#fb9f3a"
            ],
            [
             0.8888888888888888,
             "#fdca26"
            ],
            [
             1,
             "#f0f921"
            ]
           ],
           "sequentialminus": [
            [
             0,
             "#0d0887"
            ],
            [
             0.1111111111111111,
             "#46039f"
            ],
            [
             0.2222222222222222,
             "#7201a8"
            ],
            [
             0.3333333333333333,
             "#9c179e"
            ],
            [
             0.4444444444444444,
             "#bd3786"
            ],
            [
             0.5555555555555556,
             "#d8576b"
            ],
            [
             0.6666666666666666,
             "#ed7953"
            ],
            [
             0.7777777777777778,
             "#fb9f3a"
            ],
            [
             0.8888888888888888,
             "#fdca26"
            ],
            [
             1,
             "#f0f921"
            ]
           ]
          },
          "colorway": [
           "#636efa",
           "#EF553B",
           "#00cc96",
           "#ab63fa",
           "#FFA15A",
           "#19d3f3",
           "#FF6692",
           "#B6E880",
           "#FF97FF",
           "#FECB52"
          ],
          "font": {
           "color": "#2a3f5f"
          },
          "geo": {
           "bgcolor": "white",
           "lakecolor": "white",
           "landcolor": "#E5ECF6",
           "showlakes": true,
           "showland": true,
           "subunitcolor": "white"
          },
          "hoverlabel": {
           "align": "left"
          },
          "hovermode": "closest",
          "mapbox": {
           "style": "light"
          },
          "paper_bgcolor": "white",
          "plot_bgcolor": "#E5ECF6",
          "polar": {
           "angularaxis": {
            "gridcolor": "white",
            "linecolor": "white",
            "ticks": ""
           },
           "bgcolor": "#E5ECF6",
           "radialaxis": {
            "gridcolor": "white",
            "linecolor": "white",
            "ticks": ""
           }
          },
          "scene": {
           "xaxis": {
            "backgroundcolor": "#E5ECF6",
            "gridcolor": "white",
            "gridwidth": 2,
            "linecolor": "white",
            "showbackground": true,
            "ticks": "",
            "zerolinecolor": "white"
           },
           "yaxis": {
            "backgroundcolor": "#E5ECF6",
            "gridcolor": "white",
            "gridwidth": 2,
            "linecolor": "white",
            "showbackground": true,
            "ticks": "",
            "zerolinecolor": "white"
           },
           "zaxis": {
            "backgroundcolor": "#E5ECF6",
            "gridcolor": "white",
            "gridwidth": 2,
            "linecolor": "white",
            "showbackground": true,
            "ticks": "",
            "zerolinecolor": "white"
           }
          },
          "shapedefaults": {
           "line": {
            "color": "#2a3f5f"
           }
          },
          "ternary": {
           "aaxis": {
            "gridcolor": "white",
            "linecolor": "white",
            "ticks": ""
           },
           "baxis": {
            "gridcolor": "white",
            "linecolor": "white",
            "ticks": ""
           },
           "bgcolor": "#E5ECF6",
           "caxis": {
            "gridcolor": "white",
            "linecolor": "white",
            "ticks": ""
           }
          },
          "title": {
           "x": 0.05
          },
          "xaxis": {
           "automargin": true,
           "gridcolor": "white",
           "linecolor": "white",
           "ticks": "",
           "title": {
            "standoff": 15
           },
           "zerolinecolor": "white",
           "zerolinewidth": 2
          },
          "yaxis": {
           "automargin": true,
           "gridcolor": "white",
           "linecolor": "white",
           "ticks": "",
           "title": {
            "standoff": 15
           },
           "zerolinecolor": "white",
           "zerolinewidth": 2
          }
         }
        },
        "xaxis": {
         "tickangle": -45
        }
       }
      }
     },
     "metadata": {},
     "output_type": "display_data"
    }
   ],
   "source": [
    "# plot radnom 20 words from the corpus and their count in cnt_HUMAN and cnt_MODEL with the help of plotly\n",
    "\n",
    "import random\n",
    "\n",
    "random_words = random.sample(list(cnt_HUMAN), 100)\n",
    "random_words\n",
    "k = cnt_HUMAN.most_common(10)\n",
    "\n",
    "#make list of k \n",
    "k = []\n",
    "for i in range(100):\n",
    "    k.append(cnt_HUMAN.most_common(100)[i][0])\n",
    "\n",
    "random_words = k\n",
    "# cnt_HUMAN[random_words[0]]\n",
    "# cnt_MODEL[random_words[0]]\n",
    "\n",
    "# mkae a plot of the random words 100  and their count in cnt_HUMAN and cnt_MODEL with the help of plotlye\n",
    "fig = go.Figure()\n",
    "fig.add_trace(go.Bar(x=random_words, y=[cnt_HUMAN[i] for i in random_words], name='Human'))\n",
    "fig.add_trace(go.Bar(x=random_words, y=[cnt_MODEL[i] for i in random_words], name='Model'))\n",
    "\n",
    "\n",
    "fig.add_trace\n",
    "\n",
    "fig.update_layout(barmode='group', xaxis_tickangle=-45)\n",
    "fig.show()\n",
    "\n",
    "\n"
   ]
  },
  {
   "cell_type": "code",
   "execution_count": 34,
   "metadata": {},
   "outputs": [
    {
     "ename": "LookupError",
     "evalue": "\n**********************************************************************\n  Resource \u001b[93maveraged_perceptron_tagger\u001b[0m not found.\n  Please use the NLTK Downloader to obtain the resource:\n\n  \u001b[31m>>> import nltk\n  >>> nltk.download('averaged_perceptron_tagger')\n  \u001b[0m\n  For more information see: https://www.nltk.org/data.html\n\n  Attempted to load \u001b[93mtaggers/averaged_perceptron_tagger/averaged_perceptron_tagger.pickle\u001b[0m\n\n  Searched in:\n    - '/home/suyash/nltk_data'\n    - '/usr/nltk_data'\n    - '/usr/share/nltk_data'\n    - '/usr/lib/nltk_data'\n    - '/usr/share/nltk_data'\n    - '/usr/local/share/nltk_data'\n    - '/usr/lib/nltk_data'\n    - '/usr/local/lib/nltk_data'\n**********************************************************************\n",
     "output_type": "error",
     "traceback": [
      "\u001b[0;31m---------------------------------------------------------------------------\u001b[0m",
      "\u001b[0;31mLookupError\u001b[0m                               Traceback (most recent call last)",
      "\u001b[1;32m/home/suyash/Desktop/IIIT/sem_5/ANLP/Project/Mast-Kalandar/SemEval2024-task8/subtaskA/baseline/Data_Vis.ipynb Cell 29\u001b[0m line \u001b[0;36m5\n\u001b[1;32m      <a href='vscode-notebook-cell:/home/suyash/Desktop/IIIT/sem_5/ANLP/Project/Mast-Kalandar/SemEval2024-task8/subtaskA/baseline/Data_Vis.ipynb#X36sZmlsZQ%3D%3D?line=2'>3</a>\u001b[0m test_pos_tags \u001b[39m=\u001b[39m []\n\u001b[1;32m      <a href='vscode-notebook-cell:/home/suyash/Desktop/IIIT/sem_5/ANLP/Project/Mast-Kalandar/SemEval2024-task8/subtaskA/baseline/Data_Vis.ipynb#X36sZmlsZQ%3D%3D?line=3'>4</a>\u001b[0m \u001b[39mfor\u001b[39;00m i \u001b[39min\u001b[39;00m \u001b[39mrange\u001b[39m(\u001b[39mlen\u001b[39m(train_df)):\n\u001b[0;32m----> <a href='vscode-notebook-cell:/home/suyash/Desktop/IIIT/sem_5/ANLP/Project/Mast-Kalandar/SemEval2024-task8/subtaskA/baseline/Data_Vis.ipynb#X36sZmlsZQ%3D%3D?line=4'>5</a>\u001b[0m     train_pos_tags \u001b[39m+\u001b[39m\u001b[39m=\u001b[39m [pos_tag(split_into_lemmas(train_df[\u001b[39m'\u001b[39;49m\u001b[39mtext\u001b[39;49m\u001b[39m'\u001b[39;49m][i]))]\n",
      "File \u001b[0;32m~/.local/lib/python3.10/site-packages/nltk/tag/__init__.py:165\u001b[0m, in \u001b[0;36mpos_tag\u001b[0;34m(tokens, tagset, lang)\u001b[0m\n\u001b[1;32m    140\u001b[0m \u001b[39mdef\u001b[39;00m \u001b[39mpos_tag\u001b[39m(tokens, tagset\u001b[39m=\u001b[39m\u001b[39mNone\u001b[39;00m, lang\u001b[39m=\u001b[39m\u001b[39m\"\u001b[39m\u001b[39meng\u001b[39m\u001b[39m\"\u001b[39m):\n\u001b[1;32m    141\u001b[0m \u001b[39m    \u001b[39m\u001b[39m\"\"\"\u001b[39;00m\n\u001b[1;32m    142\u001b[0m \u001b[39m    Use NLTK's currently recommended part of speech tagger to\u001b[39;00m\n\u001b[1;32m    143\u001b[0m \u001b[39m    tag the given list of tokens.\u001b[39;00m\n\u001b[0;32m   (...)\u001b[0m\n\u001b[1;32m    163\u001b[0m \u001b[39m    :rtype: list(tuple(str, str))\u001b[39;00m\n\u001b[1;32m    164\u001b[0m \u001b[39m    \"\"\"\u001b[39;00m\n\u001b[0;32m--> 165\u001b[0m     tagger \u001b[39m=\u001b[39m _get_tagger(lang)\n\u001b[1;32m    166\u001b[0m     \u001b[39mreturn\u001b[39;00m _pos_tag(tokens, tagset, tagger, lang)\n",
      "File \u001b[0;32m~/.local/lib/python3.10/site-packages/nltk/tag/__init__.py:107\u001b[0m, in \u001b[0;36m_get_tagger\u001b[0;34m(lang)\u001b[0m\n\u001b[1;32m    105\u001b[0m     tagger\u001b[39m.\u001b[39mload(ap_russian_model_loc)\n\u001b[1;32m    106\u001b[0m \u001b[39melse\u001b[39;00m:\n\u001b[0;32m--> 107\u001b[0m     tagger \u001b[39m=\u001b[39m PerceptronTagger()\n\u001b[1;32m    108\u001b[0m \u001b[39mreturn\u001b[39;00m tagger\n",
      "File \u001b[0;32m~/.local/lib/python3.10/site-packages/nltk/tag/perceptron.py:167\u001b[0m, in \u001b[0;36mPerceptronTagger.__init__\u001b[0;34m(self, load)\u001b[0m\n\u001b[1;32m    164\u001b[0m \u001b[39mself\u001b[39m\u001b[39m.\u001b[39mclasses \u001b[39m=\u001b[39m \u001b[39mset\u001b[39m()\n\u001b[1;32m    165\u001b[0m \u001b[39mif\u001b[39;00m load:\n\u001b[1;32m    166\u001b[0m     AP_MODEL_LOC \u001b[39m=\u001b[39m \u001b[39m\"\u001b[39m\u001b[39mfile:\u001b[39m\u001b[39m\"\u001b[39m \u001b[39m+\u001b[39m \u001b[39mstr\u001b[39m(\n\u001b[0;32m--> 167\u001b[0m         find(\u001b[39m\"\u001b[39;49m\u001b[39mtaggers/averaged_perceptron_tagger/\u001b[39;49m\u001b[39m\"\u001b[39;49m \u001b[39m+\u001b[39;49m PICKLE)\n\u001b[1;32m    168\u001b[0m     )\n\u001b[1;32m    169\u001b[0m     \u001b[39mself\u001b[39m\u001b[39m.\u001b[39mload(AP_MODEL_LOC)\n",
      "File \u001b[0;32m~/.local/lib/python3.10/site-packages/nltk/data.py:583\u001b[0m, in \u001b[0;36mfind\u001b[0;34m(resource_name, paths)\u001b[0m\n\u001b[1;32m    581\u001b[0m sep \u001b[39m=\u001b[39m \u001b[39m\"\u001b[39m\u001b[39m*\u001b[39m\u001b[39m\"\u001b[39m \u001b[39m*\u001b[39m \u001b[39m70\u001b[39m\n\u001b[1;32m    582\u001b[0m resource_not_found \u001b[39m=\u001b[39m \u001b[39mf\u001b[39m\u001b[39m\"\u001b[39m\u001b[39m\\n\u001b[39;00m\u001b[39m{\u001b[39;00msep\u001b[39m}\u001b[39;00m\u001b[39m\\n\u001b[39;00m\u001b[39m{\u001b[39;00mmsg\u001b[39m}\u001b[39;00m\u001b[39m\\n\u001b[39;00m\u001b[39m{\u001b[39;00msep\u001b[39m}\u001b[39;00m\u001b[39m\\n\u001b[39;00m\u001b[39m\"\u001b[39m\n\u001b[0;32m--> 583\u001b[0m \u001b[39mraise\u001b[39;00m \u001b[39mLookupError\u001b[39;00m(resource_not_found)\n",
      "\u001b[0;31mLookupError\u001b[0m: \n**********************************************************************\n  Resource \u001b[93maveraged_perceptron_tagger\u001b[0m not found.\n  Please use the NLTK Downloader to obtain the resource:\n\n  \u001b[31m>>> import nltk\n  >>> nltk.download('averaged_perceptron_tagger')\n  \u001b[0m\n  For more information see: https://www.nltk.org/data.html\n\n  Attempted to load \u001b[93mtaggers/averaged_perceptron_tagger/averaged_perceptron_tagger.pickle\u001b[0m\n\n  Searched in:\n    - '/home/suyash/nltk_data'\n    - '/usr/nltk_data'\n    - '/usr/share/nltk_data'\n    - '/usr/lib/nltk_data'\n    - '/usr/share/nltk_data'\n    - '/usr/local/share/nltk_data'\n    - '/usr/lib/nltk_data'\n    - '/usr/local/lib/nltk_data'\n**********************************************************************\n"
     ]
    }
   ],
   "source": [
    "# find pos tags of wrods in train and test data\n",
    "train_pos_tags = []\n",
    "test_pos_tags = []\n",
    "for i in range(len(train_df)):\n",
    "    train_pos_tags += [pos_tag(split_into_lemmas(train_df['text'][i]))]"
   ]
  },
  {
   "cell_type": "code",
   "execution_count": null,
   "metadata": {},
   "outputs": [],
   "source": []
  },
  {
   "cell_type": "code",
   "execution_count": null,
   "metadata": {},
   "outputs": [],
   "source": []
  },
  {
   "cell_type": "code",
   "execution_count": null,
   "metadata": {},
   "outputs": [],
   "source": []
  }
 ],
 "metadata": {
  "kernelspec": {
   "display_name": "Python 3",
   "language": "python",
   "name": "python3"
  },
  "language_info": {
   "codemirror_mode": {
    "name": "ipython",
    "version": 3
   },
   "file_extension": ".py",
   "mimetype": "text/x-python",
   "name": "python",
   "nbconvert_exporter": "python",
   "pygments_lexer": "ipython3",
   "version": "3.10.12"
  }
 },
 "nbformat": 4,
 "nbformat_minor": 2
}
